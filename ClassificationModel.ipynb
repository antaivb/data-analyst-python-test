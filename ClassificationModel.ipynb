{
 "cells": [
  {
   "cell_type": "code",
   "execution_count": 2,
   "metadata": {},
   "outputs": [],
   "source": [
    "import matplotlib.pyplot as plt\n",
    "import numpy as np\n",
    "import pandas as pd\n",
    "import seaborn as sns"
   ]
  },
  {
   "cell_type": "code",
   "execution_count": 3,
   "metadata": {},
   "outputs": [],
   "source": [
    "seeds=pd.read_csv('seeds_dataset.txt', delimiter='\\t' )"
   ]
  },
  {
   "cell_type": "code",
   "execution_count": 4,
   "metadata": {
    "scrolled": false
   },
   "outputs": [
    {
     "data": {
      "text/html": [
       "<div>\n",
       "<style scoped>\n",
       "    .dataframe tbody tr th:only-of-type {\n",
       "        vertical-align: middle;\n",
       "    }\n",
       "\n",
       "    .dataframe tbody tr th {\n",
       "        vertical-align: top;\n",
       "    }\n",
       "\n",
       "    .dataframe thead th {\n",
       "        text-align: right;\n",
       "    }\n",
       "</style>\n",
       "<table border=\"1\" class=\"dataframe\">\n",
       "  <thead>\n",
       "    <tr style=\"text-align: right;\">\n",
       "      <th></th>\n",
       "      <th>15.26</th>\n",
       "      <th>14.84</th>\n",
       "      <th>0.871</th>\n",
       "      <th>5.763</th>\n",
       "      <th>3.312</th>\n",
       "      <th>2.221</th>\n",
       "      <th>5.22</th>\n",
       "      <th>1</th>\n",
       "    </tr>\n",
       "  </thead>\n",
       "  <tbody>\n",
       "    <tr>\n",
       "      <th>0</th>\n",
       "      <td>14.88</td>\n",
       "      <td>14.57</td>\n",
       "      <td>0.8811</td>\n",
       "      <td>5.554</td>\n",
       "      <td>3.333</td>\n",
       "      <td>1.018</td>\n",
       "      <td>4.956</td>\n",
       "      <td>1</td>\n",
       "    </tr>\n",
       "    <tr>\n",
       "      <th>1</th>\n",
       "      <td>14.29</td>\n",
       "      <td>14.09</td>\n",
       "      <td>0.9050</td>\n",
       "      <td>5.291</td>\n",
       "      <td>3.337</td>\n",
       "      <td>2.699</td>\n",
       "      <td>4.825</td>\n",
       "      <td>1</td>\n",
       "    </tr>\n",
       "    <tr>\n",
       "      <th>2</th>\n",
       "      <td>13.84</td>\n",
       "      <td>13.94</td>\n",
       "      <td>0.8955</td>\n",
       "      <td>5.324</td>\n",
       "      <td>3.379</td>\n",
       "      <td>2.259</td>\n",
       "      <td>4.805</td>\n",
       "      <td>1</td>\n",
       "    </tr>\n",
       "    <tr>\n",
       "      <th>3</th>\n",
       "      <td>16.14</td>\n",
       "      <td>14.99</td>\n",
       "      <td>0.9034</td>\n",
       "      <td>5.658</td>\n",
       "      <td>3.562</td>\n",
       "      <td>1.355</td>\n",
       "      <td>5.175</td>\n",
       "      <td>1</td>\n",
       "    </tr>\n",
       "    <tr>\n",
       "      <th>4</th>\n",
       "      <td>14.38</td>\n",
       "      <td>14.21</td>\n",
       "      <td>0.8951</td>\n",
       "      <td>5.386</td>\n",
       "      <td>3.312</td>\n",
       "      <td>2.462</td>\n",
       "      <td>4.956</td>\n",
       "      <td>1</td>\n",
       "    </tr>\n",
       "  </tbody>\n",
       "</table>\n",
       "</div>"
      ],
      "text/plain": [
       "   15.26  14.84   0.871  5.763  3.312  2.221   5.22  1\n",
       "0  14.88  14.57  0.8811  5.554  3.333  1.018  4.956  1\n",
       "1  14.29  14.09  0.9050  5.291  3.337  2.699  4.825  1\n",
       "2  13.84  13.94  0.8955  5.324  3.379  2.259  4.805  1\n",
       "3  16.14  14.99  0.9034  5.658  3.562  1.355  5.175  1\n",
       "4  14.38  14.21  0.8951  5.386  3.312  2.462  4.956  1"
      ]
     },
     "execution_count": 4,
     "metadata": {},
     "output_type": "execute_result"
    }
   ],
   "source": [
    "seeds.head()"
   ]
  },
  {
   "cell_type": "code",
   "execution_count": 5,
   "metadata": {},
   "outputs": [],
   "source": [
    "colnames=['Area','Perimeter', 'Compactness', 'Length of kernel','Width of kernel', \n",
    "          'Asymmetry coefficient','Length kernel groove','target']"
   ]
  },
  {
   "cell_type": "code",
   "execution_count": 6,
   "metadata": {},
   "outputs": [
    {
     "data": {
      "text/html": [
       "<div>\n",
       "<style scoped>\n",
       "    .dataframe tbody tr th:only-of-type {\n",
       "        vertical-align: middle;\n",
       "    }\n",
       "\n",
       "    .dataframe tbody tr th {\n",
       "        vertical-align: top;\n",
       "    }\n",
       "\n",
       "    .dataframe thead th {\n",
       "        text-align: right;\n",
       "    }\n",
       "</style>\n",
       "<table border=\"1\" class=\"dataframe\">\n",
       "  <thead>\n",
       "    <tr style=\"text-align: right;\">\n",
       "      <th></th>\n",
       "      <th>Area</th>\n",
       "      <th>Perimeter</th>\n",
       "      <th>Compactness</th>\n",
       "      <th>Length of kernel</th>\n",
       "      <th>Width of kernel</th>\n",
       "      <th>Asymmetry coefficient</th>\n",
       "      <th>Length kernel groove</th>\n",
       "      <th>target</th>\n",
       "    </tr>\n",
       "  </thead>\n",
       "  <tbody>\n",
       "    <tr>\n",
       "      <th>0</th>\n",
       "      <td>14.88</td>\n",
       "      <td>14.57</td>\n",
       "      <td>0.8811</td>\n",
       "      <td>5.554</td>\n",
       "      <td>3.333</td>\n",
       "      <td>1.018</td>\n",
       "      <td>4.956</td>\n",
       "      <td>1</td>\n",
       "    </tr>\n",
       "    <tr>\n",
       "      <th>1</th>\n",
       "      <td>14.29</td>\n",
       "      <td>14.09</td>\n",
       "      <td>0.9050</td>\n",
       "      <td>5.291</td>\n",
       "      <td>3.337</td>\n",
       "      <td>2.699</td>\n",
       "      <td>4.825</td>\n",
       "      <td>1</td>\n",
       "    </tr>\n",
       "    <tr>\n",
       "      <th>2</th>\n",
       "      <td>13.84</td>\n",
       "      <td>13.94</td>\n",
       "      <td>0.8955</td>\n",
       "      <td>5.324</td>\n",
       "      <td>3.379</td>\n",
       "      <td>2.259</td>\n",
       "      <td>4.805</td>\n",
       "      <td>1</td>\n",
       "    </tr>\n",
       "    <tr>\n",
       "      <th>3</th>\n",
       "      <td>16.14</td>\n",
       "      <td>14.99</td>\n",
       "      <td>0.9034</td>\n",
       "      <td>5.658</td>\n",
       "      <td>3.562</td>\n",
       "      <td>1.355</td>\n",
       "      <td>5.175</td>\n",
       "      <td>1</td>\n",
       "    </tr>\n",
       "    <tr>\n",
       "      <th>4</th>\n",
       "      <td>14.38</td>\n",
       "      <td>14.21</td>\n",
       "      <td>0.8951</td>\n",
       "      <td>5.386</td>\n",
       "      <td>3.312</td>\n",
       "      <td>2.462</td>\n",
       "      <td>4.956</td>\n",
       "      <td>1</td>\n",
       "    </tr>\n",
       "  </tbody>\n",
       "</table>\n",
       "</div>"
      ],
      "text/plain": [
       "    Area  Perimeter  Compactness  Length of kernel  Width of kernel  \\\n",
       "0  14.88      14.57       0.8811             5.554            3.333   \n",
       "1  14.29      14.09       0.9050             5.291            3.337   \n",
       "2  13.84      13.94       0.8955             5.324            3.379   \n",
       "3  16.14      14.99       0.9034             5.658            3.562   \n",
       "4  14.38      14.21       0.8951             5.386            3.312   \n",
       "\n",
       "   Asymmetry coefficient  Length kernel groove  target  \n",
       "0                  1.018                 4.956       1  \n",
       "1                  2.699                 4.825       1  \n",
       "2                  2.259                 4.805       1  \n",
       "3                  1.355                 5.175       1  \n",
       "4                  2.462                 4.956       1  "
      ]
     },
     "execution_count": 6,
     "metadata": {},
     "output_type": "execute_result"
    }
   ],
   "source": [
    "seeds.columns=colnames\n",
    "seeds.head()"
   ]
  },
  {
   "cell_type": "markdown",
   "metadata": {},
   "source": [
    "Check whether dataset more in details to find out whether to clean it further"
   ]
  },
  {
   "cell_type": "code",
   "execution_count": 7,
   "metadata": {},
   "outputs": [
    {
     "data": {
      "text/html": [
       "<div>\n",
       "<style scoped>\n",
       "    .dataframe tbody tr th:only-of-type {\n",
       "        vertical-align: middle;\n",
       "    }\n",
       "\n",
       "    .dataframe tbody tr th {\n",
       "        vertical-align: top;\n",
       "    }\n",
       "\n",
       "    .dataframe thead th {\n",
       "        text-align: right;\n",
       "    }\n",
       "</style>\n",
       "<table border=\"1\" class=\"dataframe\">\n",
       "  <thead>\n",
       "    <tr style=\"text-align: right;\">\n",
       "      <th></th>\n",
       "      <th>Area</th>\n",
       "      <th>Perimeter</th>\n",
       "      <th>Compactness</th>\n",
       "      <th>Length of kernel</th>\n",
       "      <th>Width of kernel</th>\n",
       "      <th>Asymmetry coefficient</th>\n",
       "      <th>Length kernel groove</th>\n",
       "      <th>target</th>\n",
       "    </tr>\n",
       "  </thead>\n",
       "  <tbody>\n",
       "    <tr>\n",
       "      <th>count</th>\n",
       "      <td>209.000000</td>\n",
       "      <td>209.000000</td>\n",
       "      <td>209.000000</td>\n",
       "      <td>209.000000</td>\n",
       "      <td>209.000000</td>\n",
       "      <td>209.000000</td>\n",
       "      <td>209.000000</td>\n",
       "      <td>209.000000</td>\n",
       "    </tr>\n",
       "    <tr>\n",
       "      <th>mean</th>\n",
       "      <td>14.845550</td>\n",
       "      <td>14.557943</td>\n",
       "      <td>0.870999</td>\n",
       "      <td>5.627890</td>\n",
       "      <td>3.258349</td>\n",
       "      <td>3.707278</td>\n",
       "      <td>5.408971</td>\n",
       "      <td>2.004785</td>\n",
       "    </tr>\n",
       "    <tr>\n",
       "      <th>std</th>\n",
       "      <td>2.916545</td>\n",
       "      <td>1.308949</td>\n",
       "      <td>0.023686</td>\n",
       "      <td>0.444029</td>\n",
       "      <td>0.378603</td>\n",
       "      <td>1.503657</td>\n",
       "      <td>0.492487</td>\n",
       "      <td>0.817463</td>\n",
       "    </tr>\n",
       "    <tr>\n",
       "      <th>min</th>\n",
       "      <td>10.590000</td>\n",
       "      <td>12.410000</td>\n",
       "      <td>0.808100</td>\n",
       "      <td>4.899000</td>\n",
       "      <td>2.630000</td>\n",
       "      <td>0.765100</td>\n",
       "      <td>4.519000</td>\n",
       "      <td>1.000000</td>\n",
       "    </tr>\n",
       "    <tr>\n",
       "      <th>25%</th>\n",
       "      <td>12.260000</td>\n",
       "      <td>13.450000</td>\n",
       "      <td>0.856700</td>\n",
       "      <td>5.262000</td>\n",
       "      <td>2.941000</td>\n",
       "      <td>2.587000</td>\n",
       "      <td>5.045000</td>\n",
       "      <td>1.000000</td>\n",
       "    </tr>\n",
       "    <tr>\n",
       "      <th>50%</th>\n",
       "      <td>14.340000</td>\n",
       "      <td>14.290000</td>\n",
       "      <td>0.873500</td>\n",
       "      <td>5.520000</td>\n",
       "      <td>3.232000</td>\n",
       "      <td>3.600000</td>\n",
       "      <td>5.224000</td>\n",
       "      <td>2.000000</td>\n",
       "    </tr>\n",
       "    <tr>\n",
       "      <th>75%</th>\n",
       "      <td>17.320000</td>\n",
       "      <td>15.730000</td>\n",
       "      <td>0.887900</td>\n",
       "      <td>5.980000</td>\n",
       "      <td>3.562000</td>\n",
       "      <td>4.773000</td>\n",
       "      <td>5.877000</td>\n",
       "      <td>3.000000</td>\n",
       "    </tr>\n",
       "    <tr>\n",
       "      <th>max</th>\n",
       "      <td>21.180000</td>\n",
       "      <td>17.250000</td>\n",
       "      <td>0.918300</td>\n",
       "      <td>6.675000</td>\n",
       "      <td>4.033000</td>\n",
       "      <td>8.456000</td>\n",
       "      <td>6.550000</td>\n",
       "      <td>3.000000</td>\n",
       "    </tr>\n",
       "  </tbody>\n",
       "</table>\n",
       "</div>"
      ],
      "text/plain": [
       "             Area   Perimeter  Compactness  Length of kernel  Width of kernel  \\\n",
       "count  209.000000  209.000000   209.000000        209.000000       209.000000   \n",
       "mean    14.845550   14.557943     0.870999          5.627890         3.258349   \n",
       "std      2.916545    1.308949     0.023686          0.444029         0.378603   \n",
       "min     10.590000   12.410000     0.808100          4.899000         2.630000   \n",
       "25%     12.260000   13.450000     0.856700          5.262000         2.941000   \n",
       "50%     14.340000   14.290000     0.873500          5.520000         3.232000   \n",
       "75%     17.320000   15.730000     0.887900          5.980000         3.562000   \n",
       "max     21.180000   17.250000     0.918300          6.675000         4.033000   \n",
       "\n",
       "       Asymmetry coefficient  Length kernel groove      target  \n",
       "count             209.000000            209.000000  209.000000  \n",
       "mean                3.707278              5.408971    2.004785  \n",
       "std                 1.503657              0.492487    0.817463  \n",
       "min                 0.765100              4.519000    1.000000  \n",
       "25%                 2.587000              5.045000    1.000000  \n",
       "50%                 3.600000              5.224000    2.000000  \n",
       "75%                 4.773000              5.877000    3.000000  \n",
       "max                 8.456000              6.550000    3.000000  "
      ]
     },
     "execution_count": 7,
     "metadata": {},
     "output_type": "execute_result"
    }
   ],
   "source": [
    "seeds.describe()"
   ]
  },
  {
   "cell_type": "code",
   "execution_count": 8,
   "metadata": {
    "scrolled": true
   },
   "outputs": [
    {
     "data": {
      "text/plain": [
       "Area                     float64\n",
       "Perimeter                float64\n",
       "Compactness              float64\n",
       "Length of kernel         float64\n",
       "Width of kernel          float64\n",
       "Asymmetry coefficient    float64\n",
       "Length kernel groove     float64\n",
       "target                     int64\n",
       "dtype: object"
      ]
     },
     "execution_count": 8,
     "metadata": {},
     "output_type": "execute_result"
    }
   ],
   "source": [
    "seeds.dtypes"
   ]
  },
  {
   "cell_type": "code",
   "execution_count": 9,
   "metadata": {
    "scrolled": true
   },
   "outputs": [
    {
     "data": {
      "text/plain": [
       "Area                     0\n",
       "Perimeter                0\n",
       "Compactness              0\n",
       "Length of kernel         0\n",
       "Width of kernel          0\n",
       "Asymmetry coefficient    0\n",
       "Length kernel groove     0\n",
       "target                   0\n",
       "dtype: int64"
      ]
     },
     "execution_count": 9,
     "metadata": {},
     "output_type": "execute_result"
    }
   ],
   "source": [
    "nullvalues = seeds.isnull().sum().sort_values(ascending=False)\n",
    "nullvalues"
   ]
  },
  {
   "cell_type": "markdown",
   "metadata": {},
   "source": [
    "Exploratory Data Analysis"
   ]
  },
  {
   "cell_type": "code",
   "execution_count": 10,
   "metadata": {},
   "outputs": [
    {
     "name": "stdout",
     "output_type": "stream",
     "text": [
      "[1 2 3]\n"
     ]
    }
   ],
   "source": [
    "print(seeds['target'].unique())"
   ]
  },
  {
   "cell_type": "markdown",
   "metadata": {},
   "source": [
    "Let's first analyse the distribution of the target variable to find out whether the observations are\n",
    "equally distributed amongst the three classes "
   ]
  },
  {
   "cell_type": "code",
   "execution_count": 11,
   "metadata": {},
   "outputs": [
    {
     "data": {
      "image/png": "[encoded data removed]",
      "text/plain": [
       "<Figure size 432x288 with 1 Axes>"
      ]
     },
     "metadata": {},
     "output_type": "display_data"
    }
   ],
   "source": [
    "sns.set(style=\"darkgrid\")\n",
    "ax = sns.countplot(x=\"target\", data=seeds)\n",
    "for p in ax.patches:\n",
    "    ax.annotate(format(p.get_height(), '.2f'),\n",
    "                (p.get_x() + p.get_width() / 2., p.get_height()), ha = 'center', \n",
    "                va = 'center', xytext = (0, 5), textcoords = 'offset points')"
   ]
  },
  {
   "cell_type": "code",
   "execution_count": 12,
   "metadata": {},
   "outputs": [
    {
     "data": {
      "text/html": [
       "<div>\n",
       "<style scoped>\n",
       "    .dataframe tbody tr th:only-of-type {\n",
       "        vertical-align: middle;\n",
       "    }\n",
       "\n",
       "    .dataframe tbody tr th {\n",
       "        vertical-align: top;\n",
       "    }\n",
       "\n",
       "    .dataframe thead th {\n",
       "        text-align: right;\n",
       "    }\n",
       "</style>\n",
       "<table border=\"1\" class=\"dataframe\">\n",
       "  <thead>\n",
       "    <tr style=\"text-align: right;\">\n",
       "      <th></th>\n",
       "      <th>Area</th>\n",
       "      <th>Perimeter</th>\n",
       "      <th>Compactness</th>\n",
       "      <th>Length of kernel</th>\n",
       "      <th>Width of kernel</th>\n",
       "      <th>Asymmetry coefficient</th>\n",
       "      <th>Length kernel groove</th>\n",
       "    </tr>\n",
       "    <tr>\n",
       "      <th>target</th>\n",
       "      <th></th>\n",
       "      <th></th>\n",
       "      <th></th>\n",
       "      <th></th>\n",
       "      <th></th>\n",
       "      <th></th>\n",
       "      <th></th>\n",
       "    </tr>\n",
       "  </thead>\n",
       "  <tbody>\n",
       "    <tr>\n",
       "      <th>1</th>\n",
       "      <td>14.321014</td>\n",
       "      <td>14.286377</td>\n",
       "      <td>0.880201</td>\n",
       "      <td>5.504362</td>\n",
       "      <td>3.243652</td>\n",
       "      <td>2.673872</td>\n",
       "      <td>5.08529</td>\n",
       "    </tr>\n",
       "    <tr>\n",
       "      <th>2</th>\n",
       "      <td>18.334286</td>\n",
       "      <td>16.135714</td>\n",
       "      <td>0.883517</td>\n",
       "      <td>6.148029</td>\n",
       "      <td>3.677414</td>\n",
       "      <td>3.644800</td>\n",
       "      <td>6.02060</td>\n",
       "    </tr>\n",
       "    <tr>\n",
       "      <th>3</th>\n",
       "      <td>11.873857</td>\n",
       "      <td>13.247857</td>\n",
       "      <td>0.849409</td>\n",
       "      <td>5.229514</td>\n",
       "      <td>2.853771</td>\n",
       "      <td>4.788400</td>\n",
       "      <td>5.11640</td>\n",
       "    </tr>\n",
       "  </tbody>\n",
       "</table>\n",
       "</div>"
      ],
      "text/plain": [
       "             Area  Perimeter  Compactness  Length of kernel  Width of kernel  \\\n",
       "target                                                                         \n",
       "1       14.321014  14.286377     0.880201          5.504362         3.243652   \n",
       "2       18.334286  16.135714     0.883517          6.148029         3.677414   \n",
       "3       11.873857  13.247857     0.849409          5.229514         2.853771   \n",
       "\n",
       "        Asymmetry coefficient  Length kernel groove  \n",
       "target                                               \n",
       "1                    2.673872               5.08529  \n",
       "2                    3.644800               6.02060  \n",
       "3                    4.788400               5.11640  "
      ]
     },
     "execution_count": 12,
     "metadata": {},
     "output_type": "execute_result"
    }
   ],
   "source": [
    "seeds.groupby('target').mean()"
   ]
  },
  {
   "cell_type": "code",
   "execution_count": 13,
   "metadata": {},
   "outputs": [
    {
     "data": {
      "image/png": "[encoded data removed]",
      "text/plain": [
       "<Figure size 1080x1080 with 7 Axes>"
      ]
     },
     "metadata": {},
     "output_type": "display_data"
    }
   ],
   "source": [
    "fig = plt.figure(figsize=(15,15))\n",
    "\n",
    "\n",
    "cols = [x for x in seeds.columns if x !='target']\n",
    "plots= [x for x in range(0, len(cols))]\n",
    "for i in range(len(cols)):\n",
    "    plots[i]= fig.add_subplot(3,3,i+1)\n",
    "    \n",
    "for i in range(len(plots)):\n",
    "    plots[i].hist(seeds[seeds.target==1][cols[i]], alpha=0.7)\n",
    "    plots[i].hist(seeds[seeds.target==2][cols[i]], alpha=0.7)\n",
    "    plots[i].hist(seeds[seeds.target==3][cols[i]], alpha=0.7)\n",
    "    plots[i].set_title(cols[i])\n",
    "    plots[i].set_ylabel('Frequency')"
   ]
  },
  {
   "cell_type": "markdown",
   "metadata": {},
   "source": [
    "Let's implement three classification models to and figure which one wuld help us to improve the score:\n",
    "\n",
    "1) Neural Network\n",
    "\n",
    "2) Support Vectorn Machine\n",
    "\n",
    "3) Random Forest\n"
   ]
  },
  {
   "cell_type": "code",
   "execution_count": 14,
   "metadata": {},
   "outputs": [],
   "source": [
    "from sklearn.model_selection import train_test_split\n",
    "from sklearn.model_selection import GridSearchCV\n",
    "from sklearn.neural_network import MLPClassifier\n",
    "from sklearn.svm import SVC\n",
    "from sklearn.ensemble import RandomForestClassifier\n",
    "from sklearn.metrics import classification_report\n",
    "from sklearn.metrics import accuracy_score\n",
    "from sklearn.metrics import roc_auc_score"
   ]
  },
  {
   "cell_type": "code",
   "execution_count": 15,
   "metadata": {},
   "outputs": [],
   "source": [
    "Y = seeds['target']\n",
    "x = seeds.drop('target', axis=1)"
   ]
  },
  {
   "cell_type": "code",
   "execution_count": 16,
   "metadata": {},
   "outputs": [],
   "source": [
    "from sklearn.preprocessing import StandardScaler\n",
    "\n",
    "scaler = StandardScaler()\n",
    "\n",
    "scaler.fit(x)\n",
    "X = scaler.transform(x)"
   ]
  },
  {
   "cell_type": "code",
   "execution_count": 17,
   "metadata": {},
   "outputs": [],
   "source": [
    "X_train, X_test, y_train, y_test = train_test_split(X, Y, test_size=0.20, random_state=42)"
   ]
  },
  {
   "cell_type": "markdown",
   "metadata": {},
   "source": [
    "We are now going to use GridsearchCV for hyperparameters tuning"
   ]
  },
  {
   "cell_type": "code",
   "execution_count": 18,
   "metadata": {},
   "outputs": [],
   "source": [
    "#Neural Networks\n",
    "\n",
    "parameters = {'solver':['sgd','lbfgs', 'adam'],'activation': ['logistic', 'tanh', 'relu'],\n",
    "              'alpha': [ 0.1 , 0.01 , 0.001 , 0.0001],'hidden_layer_sizes': np.arange(12, 18)\n",
    "             }\n",
    "gridcv = GridSearchCV(MLPClassifier(random_state=42),parameters,verbose=1, cv=6)"
   ]
  },
  {
   "cell_type": "code",
   "execution_count": 19,
   "metadata": {},
   "outputs": [],
   "source": [
    "# Support Vector Machine\n",
    "parameters = {'kernel':('linear', 'rbf', 'poly','sigmoid'), 'C': [1, 10, 100, 1000]}\n",
    "classifier = SVC(random_state=42)\n",
    "gridsvm = GridSearchCV(classifier, parameters, cv=6)"
   ]
  },
  {
   "cell_type": "code",
   "execution_count": 20,
   "metadata": {},
   "outputs": [],
   "source": [
    "#Random Forest\n",
    "\n",
    "params = {'max_depth': [10,30,50, 70,100, None],\n",
    "          'max_features': ['auto', 'sqrt'],\n",
    "          'min_samples_leaf': [1, 2, 4],\n",
    "          'n_estimators': [100,500,1000, 1500, 2000]}\n",
    "          \n",
    "gridRF = GridSearchCV(RandomForestClassifier(random_state=42), params, verbose=1, cv=3)"
   ]
  },
  {
   "cell_type": "markdown",
   "metadata": {},
   "source": [
    "Let's fit the three GridSearchCV models to the entire dataset"
   ]
  },
  {
   "cell_type": "code",
   "execution_count": 21,
   "metadata": {},
   "outputs": [],
   "source": [
    "# gridcv.fit(X,Y)"
   ]
  },
  {
   "cell_type": "code",
   "execution_count": 22,
   "metadata": {},
   "outputs": [],
   "source": [
    "# gridsvm.fit(X,Y)"
   ]
  },
  {
   "cell_type": "code",
   "execution_count": 23,
   "metadata": {},
   "outputs": [],
   "source": [
    "# gridRF.fit(X,Y)"
   ]
  },
  {
   "cell_type": "markdown",
   "metadata": {},
   "source": [
    "Best results of the hyperparameter tuning that we can use to implement the alogorithms"
   ]
  },
  {
   "cell_type": "code",
   "execution_count": 24,
   "metadata": {},
   "outputs": [],
   "source": [
    "# print(gridcv.best_score_)\n",
    "# print('#################')\n",
    "# print(gridcv.best_params_)"
   ]
  },
  {
   "cell_type": "code",
   "execution_count": 25,
   "metadata": {},
   "outputs": [],
   "source": [
    "# print(gridsvm.best_score_)\n",
    "# print('#################')\n",
    "# print(gridsvm.best_params_)"
   ]
  },
  {
   "cell_type": "code",
   "execution_count": 26,
   "metadata": {},
   "outputs": [],
   "source": [
    "# print(gridRF.best_score_)\n",
    "# print('#################')\n",
    "# print(gridRF.best_params_)"
   ]
  },
  {
   "cell_type": "markdown",
   "metadata": {},
   "source": [
    "Implementation of the algorithms"
   ]
  },
  {
   "cell_type": "code",
   "execution_count": 27,
   "metadata": {},
   "outputs": [],
   "source": [
    "#neural_network\n",
    "nnt = MLPClassifier(activation='tanh', alpha=0.0001, hidden_layer_sizes=(12,), solver='lbfgs')\n",
    "\n",
    "#Support Vector Machine\n",
    "svm = SVC(kernel=\"linear\", C=100, probability=True)\n",
    "\n",
    "#Random Forest\n",
    "rf = RandomForestClassifier(max_depth=10, max_features='auto', min_samples_leaf=1,n_estimators=100)"
   ]
  },
  {
   "cell_type": "code",
   "execution_count": 28,
   "metadata": {},
   "outputs": [],
   "source": [
    "models=[nnt, svm, rf]\n",
    "names=['Neural Network', 'Support Vector', 'Random Forest']"
   ]
  },
  {
   "cell_type": "code",
   "execution_count": 29,
   "metadata": {
    "scrolled": false
   },
   "outputs": [
    {
     "name": "stdout",
     "output_type": "stream",
     "text": [
      "Classification Report for model Neural Network\n",
      "              precision    recall  f1-score   support\n",
      "\n",
      "           1       0.82      0.90      0.86        10\n",
      "           2       1.00      0.87      0.93        15\n",
      "           3       0.94      1.00      0.97        17\n",
      "\n",
      "    accuracy                           0.93        42\n",
      "   macro avg       0.92      0.92      0.92        42\n",
      "weighted avg       0.93      0.93      0.93        42\n",
      "\n",
      "\n",
      "accuracy_score on test set for model Neural Network is:  0.929  while accuracy_score on train set is:  1.0\n",
      "______________________________________________________________________________________\n",
      "Classification Report for model Support Vector\n",
      "              precision    recall  f1-score   support\n",
      "\n",
      "           1       1.00      0.80      0.89        10\n",
      "           2       1.00      1.00      1.00        15\n",
      "           3       0.89      1.00      0.94        17\n",
      "\n",
      "    accuracy                           0.95        42\n",
      "   macro avg       0.96      0.93      0.94        42\n",
      "weighted avg       0.96      0.95      0.95        42\n",
      "\n",
      "\n",
      "accuracy_score on test set for model Support Vector is:  0.952  while accuracy_score on train set is:  0.988\n",
      "______________________________________________________________________________________\n",
      "Classification Report for model Random Forest\n",
      "              precision    recall  f1-score   support\n",
      "\n",
      "           1       0.75      0.90      0.82        10\n",
      "           2       1.00      1.00      1.00        15\n",
      "           3       0.93      0.82      0.87        17\n",
      "\n",
      "    accuracy                           0.90        42\n",
      "   macro avg       0.89      0.91      0.90        42\n",
      "weighted avg       0.91      0.90      0.91        42\n",
      "\n",
      "\n",
      "accuracy_score on test set for model Random Forest is:  0.905  while accuracy_score on train set is:  1.0\n",
      "______________________________________________________________________________________\n"
     ]
    }
   ],
   "source": [
    "model_range = [x for x in range(0, len(models))]\n",
    "fit_models = model_range.copy()\n",
    "predictions_train = model_range.copy()\n",
    "predictions_test = model_range.copy()\n",
    "\n",
    "for i in range(len(models)):\n",
    "\n",
    "    # Fit the models of training set\n",
    "    fit_models[i]=models[i].fit(X_train,y_train)\n",
    "    predictions_train[i]=fit_models[i].predict(X_train)\n",
    "    predictions_test[i]=fit_models[i].predict(X_test)\n",
    "    \n",
    "    print('Classification Report for model', names[i])\n",
    "    print(classification_report(y_test, predictions_test[i]))  \n",
    "    print()\n",
    "    print('accuracy_score on test set for model', names[i],'is: ',round(accuracy_score(y_test, predictions_test[i]),3),\n",
    "         ' while accuracy_score on train set is: ', round(accuracy_score(y_train, predictions_train[i]),3))\n",
    "    print('______________________________________________________________________________________')\n",
    "    "
   ]
  },
  {
   "cell_type": "code",
   "execution_count": 30,
   "metadata": {},
   "outputs": [],
   "source": [
    "def aucscoremulticlass(model, X_set, y_set):\n",
    "    y_prob = model.predict_proba(X_set)\n",
    "    macro_roc_auc_ovo = roc_auc_score(y_set, y_prob, multi_class=\"ovo\",\n",
    "                                  average=\"macro\")\n",
    "    weighted_roc_auc_ovo = roc_auc_score(y_set, y_prob, multi_class=\"ovo\",\n",
    "                                     average=\"weighted\")\n",
    "    macro_roc_auc_ovr = roc_auc_score(y_set, y_prob, multi_class=\"ovr\",\n",
    "                                  average=\"macro\")\n",
    "    weighted_roc_auc_ovr = roc_auc_score(y_set, y_prob, multi_class=\"ovr\",\n",
    "                                     average=\"weighted\")\n",
    "    print(\"One-vs-One ROC AUC scores:\\n{:.6f} (macro),\\n{:.6f} \"\n",
    "      \"(weighted by prevalence)\"\n",
    "      .format(macro_roc_auc_ovo, weighted_roc_auc_ovo))\n",
    "    print(\"One-vs-Rest ROC AUC scores:\\n{:.6f} (macro),\\n{:.6f} \"\n",
    "      \"(weighted by prevalence)\"\n",
    "      .format(macro_roc_auc_ovr, weighted_roc_auc_ovr))"
   ]
  },
  {
   "cell_type": "code",
   "execution_count": 31,
   "metadata": {},
   "outputs": [
    {
     "name": "stdout",
     "output_type": "stream",
     "text": [
      "Neural Network\n",
      "One-vs-One ROC AUC scores:\n",
      "0.987451 (macro),\n",
      "0.988375 (weighted by prevalence)\n",
      "One-vs-Rest ROC AUC scores:\n",
      "0.988272 (macro),\n",
      "0.990446 (weighted by prevalence)\n",
      "_______________________________________\n",
      "Support Vector\n",
      "One-vs-One ROC AUC scores:\n",
      "0.986863 (macro),\n",
      "0.987570 (weighted by prevalence)\n",
      "One-vs-Rest ROC AUC scores:\n",
      "0.988002 (macro),\n",
      "0.989077 (weighted by prevalence)\n",
      "_______________________________________\n",
      "Random Forest\n",
      "One-vs-One ROC AUC scores:\n",
      "0.992157 (macro),\n",
      "0.992437 (weighted by prevalence)\n",
      "One-vs-Rest ROC AUC scores:\n",
      "0.992696 (macro),\n",
      "0.993214 (weighted by prevalence)\n",
      "_______________________________________\n"
     ]
    }
   ],
   "source": [
    "for i in range(len(models)):\n",
    "    print(names[i])\n",
    "    aucscoremulticlass(models[i], X_test, y_test)\n",
    "    print('_______________________________________')"
   ]
  },
  {
   "cell_type": "markdown",
   "metadata": {},
   "source": [
    "In this example, all the tree models seem to have a good results, hence picking one or the other very much depends\n",
    "on several considerations:\n",
    "    1) What is good score for the business owners?\n",
    "    2) Which model is going to be more easily explainable to non-business people?\n",
    "    \n",
    "For the sake of this analysis, I assume that ti is core that all the three classeS of the target varible are\n",
    "predicted correctly, hence I would choose the Support Vector given that it is the one with the best accuracy for \n",
    "all the three classes, along with having good score for the AUC"
   ]
  },
  {
   "cell_type": "markdown",
   "source": [
    "## Data Engineer test section\n",
    "\n",
    "For the sake of this test, we want to extract the random forest model by serializing it into python pickle format.\n",
    "\n",
    "You are tasked with:\n",
    "\n",
    "* Create a python Flask application with a `/predict` route\n",
    "* Import the `pickle` model into this new application\n",
    "* The `/predict` route will read the input for the prediction from a JSON in the request body. This is the payload of the request:\n",
    "\n",
    "    [\n",
    "        {\n",
    "            \"Asymmetry coefficient\": 1.018,\n",
    "            \"Perimeter\": 14.57,\n",
    "            \"Length of kernel\": 5.554,\n",
    "            \"Compactness\": 0.8811,\n",
    "            \"Area\": 14.88,\n",
    "            \"Length kernel groove\": 4.956,\n",
    "            \"Width of kernel\": 3.333\n",
    "        },\n",
    "        {\n",
    "            \"Asymmetry coefficient\": 4.972,\n",
    "            \"Perimeter\": 14.89,\n",
    "            \"Length of kernel\": 5.776,\n",
    "            \"Compactness\": 0.8823,\n",
    "            \"Area\": 15.56,\n",
    "            \"Length kernel groove\": 5.847,\n",
    "            \"Width of kernel\": 3.408\n",
    "        }\n",
    "    ]\n",
    "\n",
    "* Deserialize the model and use its `predict` function to predict the `Y` of the input in the request explained earlier.\n",
    "* Hint: you will actually need two pickle models, the first is a [`StandardScaler`](https://scikit-learn.org/stable/modules/generated/sklearn.preprocessing.StandardScaler.html) that you need to use to scale the onput features, using `scaler.transform()` and the second is the actual [`RandomForestClassifier`](https://scikit-learn.org/stable/modules/generated/sklearn.ensemble.RandomForestClassifier.html), that will return the prediction using the [`predict()`](https://scikit-learn.org/stable/modules/generated/sklearn.ensemble.RandomForestClassifier.html#sklearn.ensemble.RandomForestClassifier.predict) method\n",
    "* You will find the pickles in this repository. Here is a hint on how to load them:\n",
    "\n",
    "```python\n",
    "\n",
    "import pickle\n",
    "\n",
    "with open('random_forest.pkl', 'rb') as fi:\n",
    "  random_forest_model = pickle.load(fi)\n",
    "\n",
    "with open('standard_scaler.pkl', 'rb') as si:\n",
    "    scaler_model = pickle.load(si)\n",
    "\n",
    "```"
   ],
   "metadata": {
    "collapsed": false,
    "pycharm": {
     "name": "#%% md\n"
    }
   }
  },
  {
   "cell_type": "code",
   "execution_count": null,
   "metadata": {},
   "outputs": [],
   "source": []
  }
 ],
 "metadata": {
  "kernelspec": {
   "display_name": "Python 3",
   "language": "python",
   "name": "python3"
  },
  "language_info": {
   "codemirror_mode": {
    "name": "ipython",
    "version": 3
   },
   "file_extension": ".py",
   "mimetype": "text/x-python",
   "name": "python",
   "nbconvert_exporter": "python",
   "pygments_lexer": "ipython3",
   "version": "3.8.6"
  }
 },
 "nbformat": 4,
 "nbformat_minor": 2
}